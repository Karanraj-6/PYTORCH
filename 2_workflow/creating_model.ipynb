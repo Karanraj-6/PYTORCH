{
 "cells": [
  {
   "cell_type": "code",
   "execution_count": 75,
   "metadata": {},
   "outputs": [],
   "source": [
    "import torch\n",
    "from torch import nn"
   ]
  },
  {
   "cell_type": "code",
   "execution_count": 76,
   "metadata": {},
   "outputs": [
    {
     "data": {
      "text/plain": [
       "'cpu'"
      ]
     },
     "execution_count": 76,
     "metadata": {},
     "output_type": "execute_result"
    }
   ],
   "source": [
    "# agnostic code\n",
    "\n",
    "device = \"cuda\" if torch.cuda.is_available() else \"cpu\"\n",
    "device"
   ]
  },
  {
   "cell_type": "code",
   "execution_count": 77,
   "metadata": {},
   "outputs": [
    {
     "data": {
      "text/plain": [
       "(tensor([[0.0000],\n",
       "         [0.0200],\n",
       "         [0.0400],\n",
       "         [0.0600],\n",
       "         [0.0800],\n",
       "         [0.1000],\n",
       "         [0.1200],\n",
       "         [0.1400],\n",
       "         [0.1600],\n",
       "         [0.1800]]),\n",
       " tensor([[0.3000],\n",
       "         [0.3140],\n",
       "         [0.3280],\n",
       "         [0.3420],\n",
       "         [0.3560],\n",
       "         [0.3700],\n",
       "         [0.3840],\n",
       "         [0.3980],\n",
       "         [0.4120],\n",
       "         [0.4260]]))"
      ]
     },
     "execution_count": 77,
     "metadata": {},
     "output_type": "execute_result"
    }
   ],
   "source": [
    "# Create weight and bias\n",
    "weight = 0.7\n",
    "bias = 0.3\n",
    "\n",
    "# Create range values\n",
    "start = 0\n",
    "end = 1\n",
    "step = 0.02\n",
    "\n",
    "# Create X and y (features and labels)\n",
    "X = torch.arange(start, end, step).unsqueeze(dim=1) # without unsqueeze, errors will happen later on (shapes within linear layers)\n",
    "y = weight * X + bias \n",
    "X[:10], y[:10]"
   ]
  },
  {
   "cell_type": "code",
   "execution_count": 78,
   "metadata": {},
   "outputs": [
    {
     "data": {
      "text/plain": [
       "(40, 40, 10, 10)"
      ]
     },
     "execution_count": 78,
     "metadata": {},
     "output_type": "execute_result"
    }
   ],
   "source": [
    "train_split = int(0.8 * len(X))\n",
    "X_train, y_train = X[:train_split], y[:train_split]\n",
    "X_test, y_test = X[train_split:], y[train_split:]\n",
    "\n",
    "len(X_train), len(y_train), len(X_test), len(y_test)"
   ]
  },
  {
   "cell_type": "code",
   "execution_count": 79,
   "metadata": {},
   "outputs": [],
   "source": [
    "\n",
    "# Building Model\n",
    "\n",
    "class LinearRegression(nn.Module):\n",
    "    def __init__(self, *args, **kwargs):\n",
    "        super().__init__(*args, **kwargs)\n",
    "        self.linear = nn.Linear(in_features=1,out_features=1,device=device)\n",
    "    \n",
    "    def forward(self, x:torch.Tensor) -> torch.Tensor:\n",
    "        return self.linear(x)\n",
    "        "
   ]
  },
  {
   "cell_type": "code",
   "execution_count": 80,
   "metadata": {},
   "outputs": [
    {
     "data": {
      "text/plain": [
       "[Parameter containing:\n",
       " tensor([[-0.1214]], requires_grad=True),\n",
       " Parameter containing:\n",
       " tensor([-0.6089], requires_grad=True)]"
      ]
     },
     "execution_count": 80,
     "metadata": {},
     "output_type": "execute_result"
    }
   ],
   "source": [
    "model = LinearRegression()\n",
    "list(model.parameters())"
   ]
  },
  {
   "cell_type": "code",
   "execution_count": 81,
   "metadata": {},
   "outputs": [],
   "source": [
    "loss_fn = nn.L1Loss()\n",
    "optimizer = torch.optim.SGD(params=model.parameters(), lr=0.001)"
   ]
  },
  {
   "cell_type": "code",
   "execution_count": 82,
   "metadata": {},
   "outputs": [],
   "source": [
    "epochs = 169"
   ]
  },
  {
   "cell_type": "code",
   "execution_count": 83,
   "metadata": {},
   "outputs": [
    {
     "data": {
      "text/plain": [
       "device(type='cpu')"
      ]
     },
     "execution_count": 83,
     "metadata": {},
     "output_type": "execute_result"
    }
   ],
   "source": [
    "# Set model to GPU if it's availalble, otherwise it'll default to CPU\n",
    "model.to(device) # the device variable was set above to be \"cuda\" if available or \"cpu\" if not\n",
    "next(model.parameters()).device"
   ]
  },
  {
   "cell_type": "markdown",
   "metadata": {},
   "source": [
    "training and testing"
   ]
  },
  {
   "cell_type": "code",
   "execution_count": 84,
   "metadata": {},
   "outputs": [
    {
     "name": "stdout",
     "output_type": "stream",
     "text": [
      "Epoch: 0 | Train loss: 1.2291958332061768 | Test loss: 1.638525366783142\n",
      "Epoch: 10 | Train loss: 1.1658302545547485 | Test loss: 1.5509638786315918\n",
      "Epoch: 20 | Train loss: 0.9872547388076782 | Test loss: 1.3286924362182617\n",
      "Epoch: 30 | Train loss: 0.6934691667556763 | Test loss: 0.9717109799385071\n",
      "Epoch: 40 | Train loss: 0.28447359800338745 | Test loss: 0.4800192713737488\n",
      "Epoch: 50 | Train loss: 0.21491357684135437 | Test loss: 0.10653200000524521\n",
      "Epoch: 60 | Train loss: 0.6404908299446106 | Test loss: 0.5943782329559326\n",
      "Epoch: 70 | Train loss: 0.9508581161499023 | Test loss: 0.947514533996582\n",
      "Epoch: 80 | Train loss: 1.1460152864456177 | Test loss: 1.1659406423568726\n",
      "Epoch: 90 | Train loss: 1.2259624004364014 | Test loss: 1.2496570348739624\n",
      "Epoch: 100 | Train loss: 1.190699815750122 | Test loss: 1.1986632347106934\n",
      "Epoch: 110 | Train loss: 1.040226936340332 | Test loss: 1.0129594802856445\n",
      "Epoch: 120 | Train loss: 0.7745441198348999 | Test loss: 0.6925455927848816\n",
      "Epoch: 130 | Train loss: 0.3936512768268585 | Test loss: 0.23742172122001648\n",
      "Epoch: 140 | Train loss: 0.10469384491443634 | Test loss: 0.3375142216682434\n",
      "Epoch: 150 | Train loss: 0.5488752126693726 | Test loss: 0.8469029664993286\n",
      "Epoch: 160 | Train loss: 0.8866599202156067 | Test loss: 1.2215816974639893\n"
     ]
    }
   ],
   "source": [
    "\n",
    "X_train = X_train.to(device)\n",
    "X_test = X_test.to(device)\n",
    "y_train = y_train.to(device)\n",
    "y_test = y_test.to(device)\n",
    "\n",
    "train_loss_values = []\n",
    "test_loss_values = []\n",
    "epoch_count = []\n",
    "\n",
    "for epoch in range(epochs):\n",
    "    \n",
    "    ##TRAINING\n",
    "    \n",
    "    # setting in training mode\n",
    "    model.train()\n",
    "    \n",
    "    #forword pass\n",
    "    y_pred = model(X_train)\n",
    "    \n",
    "    #calculate loss\n",
    "    loss = loss_fn(y_pred, y_train)\n",
    "    \n",
    "    #zero grad optimizer\n",
    "    optimizer.zero_grad\n",
    "    \n",
    "    #backpropgation\n",
    "    loss.backward()\n",
    "    \n",
    "    #optimizer update to new gradients\n",
    "    optimizer.step()\n",
    "\n",
    "    ## TESTING\n",
    "    \n",
    "    # setting model on evalution mode\n",
    "    model.eval()\n",
    "    \n",
    "    #with inferece_mode or no_grad\n",
    "    with torch.inference_mode():\n",
    "        test_pred = model(X_test)\n",
    "        test_loss = loss_fn(test_pred , y_test)\n",
    "        if epoch % 10 == 0:\n",
    "            epoch_count.append(epoch)\n",
    "            train_loss_values.append(loss.detach().numpy())\n",
    "            test_loss_values.append(test_loss.detach().numpy())\n",
    "            print(f\"Epoch: {epoch} | Train loss: {loss} | Test loss: {test_loss}\")\n",
    "        \n",
    "    \n",
    "    "
   ]
  },
  {
   "cell_type": "code",
   "execution_count": 85,
   "metadata": {},
   "outputs": [
    {
     "data": {
      "text/plain": [
       "Text(0, 0.5, 'Loss')"
      ]
     },
     "execution_count": 85,
     "metadata": {},
     "output_type": "execute_result"
    },
    {
     "data": {
      "image/png": "[encoded data removed]",
      "text/plain": [
       "<Figure size 1000x500 with 1 Axes>"
      ]
     },
     "metadata": {},
     "output_type": "display_data"
    }
   ],
   "source": [
    "import matplotlib.pyplot as plt\n",
    "\n",
    "plt.figure(figsize=(10, 5))\n",
    "plt.plot(epoch_count, train_loss_values, label='Train Loss')\n",
    "plt.plot(epoch_count, test_loss_values, label='Test Loss')\n",
    "plt.xlabel('Epochs')\n",
    "plt.ylabel('Loss')"
   ]
  },
  {
   "cell_type": "markdown",
   "metadata": {},
   "source": [
    "## 🤣🤣🤣"
   ]
  },
  {
   "cell_type": "code",
   "execution_count": null,
   "metadata": {},
   "outputs": [],
   "source": []
  }
 ],
 "metadata": {
  "kernelspec": {
   "display_name": "Python 3",
   "language": "python",
   "name": "python3"
  },
  "language_info": {
   "codemirror_mode": {
    "name": "ipython",
    "version": 3
   },
   "file_extension": ".py",
   "mimetype": "text/x-python",
   "name": "python",
   "nbconvert_exporter": "python",
   "pygments_lexer": "ipython3",
   "version": "3.12.6"
  }
 },
 "nbformat": 4,
 "nbformat_minor": 2
}
