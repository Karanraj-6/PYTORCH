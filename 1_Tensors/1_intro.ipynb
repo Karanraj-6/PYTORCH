{
 "cells": [
  {
   "cell_type": "code",
   "execution_count": 2,
   "metadata": {},
   "outputs": [],
   "source": [
    "import torch"
   ]
  },
  {
   "cell_type": "code",
   "execution_count": 30,
   "metadata": {},
   "outputs": [
    {
     "data": {
      "text/plain": [
       "tensor(3)"
      ]
     },
     "execution_count": 30,
     "metadata": {},
     "output_type": "execute_result"
    }
   ],
   "source": [
    "scaler = torch.tensor(3)\n",
    "scaler"
   ]
  },
  {
   "cell_type": "code",
   "execution_count": 31,
   "metadata": {},
   "outputs": [
    {
     "data": {
      "text/plain": [
       "3"
      ]
     },
     "execution_count": 31,
     "metadata": {},
     "output_type": "execute_result"
    }
   ],
   "source": [
    "#item  - > .item() extracts the lone value from a tensor that's been carefully crafted to contain just one element.  **work with only one element** \n",
    "scaler.item()\n"
   ]
  },
  {
   "cell_type": "code",
   "execution_count": 33,
   "metadata": {},
   "outputs": [
    {
     "data": {
      "text/plain": [
       "tensor([2, 3, 4, 5, 6])"
      ]
     },
     "execution_count": 33,
     "metadata": {},
     "output_type": "execute_result"
    }
   ],
   "source": [
    "vector = torch.tensor([2,3,4,5,6])\n",
    "vector"
   ]
  },
  {
   "cell_type": "code",
   "execution_count": 40,
   "metadata": {},
   "outputs": [
    {
     "data": {
      "text/plain": [
       "list"
      ]
     },
     "execution_count": 40,
     "metadata": {},
     "output_type": "execute_result"
    }
   ],
   "source": [
    "#tolist()  -> coverts tensor to list\n",
    "v=vector.tolist()\n",
    "type(v)"
   ]
  },
  {
   "cell_type": "code",
   "execution_count": 44,
   "metadata": {},
   "outputs": [],
   "source": [
    "matrix = torch.tensor([[2,3],\n",
    "                       [4,5]])"
   ]
  },
  {
   "cell_type": "code",
   "execution_count": 51,
   "metadata": {},
   "outputs": [
    {
     "name": "stdout",
     "output_type": "stream",
     "text": [
      "2\n"
     ]
    },
    {
     "data": {
      "text/plain": [
       "torch.Size([2, 2])"
      ]
     },
     "execution_count": 51,
     "metadata": {},
     "output_type": "execute_result"
    }
   ],
   "source": [
    "print(matrix.ndim)\n",
    "matrix.size() #shape()\n"
   ]
  },
  {
   "cell_type": "code",
   "execution_count": 55,
   "metadata": {},
   "outputs": [],
   "source": [
    "tensor = torch.tensor([[[2,3],\n",
    "                       [4,5]]])"
   ]
  },
  {
   "cell_type": "code",
   "execution_count": 57,
   "metadata": {},
   "outputs": [
    {
     "name": "stdout",
     "output_type": "stream",
     "text": [
      "3\n"
     ]
    },
    {
     "data": {
      "text/plain": [
       "torch.Size([1, 2, 2])"
      ]
     },
     "execution_count": 57,
     "metadata": {},
     "output_type": "execute_result"
    }
   ],
   "source": [
    "print(tensor.ndim)\n",
    "tensor.size() #shape()"
   ]
  },
  {
   "cell_type": "markdown",
   "metadata": {},
   "source": [
    "### Random tensors"
   ]
  },
  {
   "cell_type": "code",
   "execution_count": 61,
   "metadata": {},
   "outputs": [
    {
     "data": {
      "text/plain": [
       "tensor([[0.5514, 0.4594, 0.3098, 0.8337],\n",
       "        [0.7474, 0.8303, 0.5966, 0.7660],\n",
       "        [0.8520, 0.7912, 0.3822, 0.2162]])"
      ]
     },
     "execution_count": 61,
     "metadata": {},
     "output_type": "execute_result"
    }
   ],
   "source": [
    "random_tensor  = torch.rand(3,4)\n",
    "random_tensor"
   ]
  },
  {
   "cell_type": "code",
   "execution_count": 63,
   "metadata": {},
   "outputs": [
    {
     "data": {
      "text/plain": [
       "tensor([[[0.8169, 0.3321, 0.1087],\n",
       "         [0.0825, 0.5125, 0.7747],\n",
       "         [0.9768, 0.4734, 0.0389]],\n",
       "\n",
       "        [[0.2240, 0.9190, 0.6691],\n",
       "         [0.9189, 0.0542, 0.1549],\n",
       "         [0.2184, 0.5774, 0.8134]]])"
      ]
     },
     "execution_count": 63,
     "metadata": {},
     "output_type": "execute_result"
    }
   ],
   "source": [
    "random_tensor1  = torch.rand(2,3,3)\n",
    "random_tensor1"
   ]
  },
  {
   "cell_type": "markdown",
   "metadata": {},
   "source": [
    "### Zeros and Ones"
   ]
  },
  {
   "cell_type": "code",
   "execution_count": 64,
   "metadata": {},
   "outputs": [
    {
     "data": {
      "text/plain": [
       "tensor([[0., 0., 0.],\n",
       "        [0., 0., 0.],\n",
       "        [0., 0., 0.]])"
      ]
     },
     "execution_count": 64,
     "metadata": {},
     "output_type": "execute_result"
    }
   ],
   "source": [
    "zero_tensor = torch.zeros(size=(3, 3))\n",
    "zero_tensor"
   ]
  },
  {
   "cell_type": "code",
   "execution_count": 68,
   "metadata": {},
   "outputs": [
    {
     "data": {
      "text/plain": [
       "tensor([[1., 1., 1.],\n",
       "        [1., 1., 1.],\n",
       "        [1., 1., 1.]], dtype=torch.float16)"
      ]
     },
     "execution_count": 68,
     "metadata": {},
     "output_type": "execute_result"
    }
   ],
   "source": [
    "ones_tensor = torch.ones(size=(3, 3),dtype=torch.float16)\n",
    "ones_tensor"
   ]
  },
  {
   "cell_type": "markdown",
   "metadata": {},
   "source": [
    "### range / arange"
   ]
  },
  {
   "cell_type": "code",
   "execution_count": 73,
   "metadata": {},
   "outputs": [
    {
     "name": "stderr",
     "output_type": "stream",
     "text": [
      "C:\\Users\\ASUS\\AppData\\Local\\Temp\\ipykernel_2772\\3572756921.py:1: UserWarning: torch.range is deprecated and will be removed in a future release because its behavior is inconsistent with Python's range builtin. Instead, use torch.arange, which produces values in [start, end).\n",
      "  torch.range(2,4) #deprecate\n"
     ]
    },
    {
     "data": {
      "text/plain": [
       "tensor([2., 3., 4.])"
      ]
     },
     "execution_count": 73,
     "metadata": {},
     "output_type": "execute_result"
    }
   ],
   "source": [
    "torch.range(2,4) #deprecate"
   ]
  },
  {
   "cell_type": "code",
   "execution_count": 76,
   "metadata": {},
   "outputs": [
    {
     "data": {
      "text/plain": [
       "tensor([2, 3, 4, 5])"
      ]
     },
     "execution_count": 76,
     "metadata": {},
     "output_type": "execute_result"
    }
   ],
   "source": [
    "torch.arange(2,6)"
   ]
  },
  {
   "cell_type": "code",
   "execution_count": 77,
   "metadata": {},
   "outputs": [
    {
     "data": {
      "text/plain": [
       "tensor([ 2,  5,  8, 11, 14, 17, 20, 23, 26, 29, 32, 35, 38, 41, 44, 47, 50, 53,\n",
       "        56, 59])"
      ]
     },
     "execution_count": 77,
     "metadata": {},
     "output_type": "execute_result"
    }
   ],
   "source": [
    "torch.arange(start=2 ,end=60, step=3)"
   ]
  },
  {
   "cell_type": "markdown",
   "metadata": {},
   "source": [
    "### tensor like"
   ]
  },
  {
   "cell_type": "code",
   "execution_count": 89,
   "metadata": {},
   "outputs": [
    {
     "name": "stdout",
     "output_type": "stream",
     "text": [
      "tensor([[6., 6., 6., 6.],\n",
      "        [6., 6., 6., 6.],\n",
      "        [6., 6., 6., 6.]])\n",
      "tensor([[0.0727, 0.5268, 0.1551, 0.1483],\n",
      "        [0.9812, 0.0748, 0.9865, 0.1721],\n",
      "        [0.5440, 0.2240, 0.4617, 0.1707]])\n",
      "tensor([[1., 1., 1., 1.],\n",
      "        [1., 1., 1., 1.],\n",
      "        [1., 1., 1., 1.]])\n",
      "tensor([[0., 0., 0., 0.],\n",
      "        [0., 0., 0., 0.],\n",
      "        [0., 0., 0., 0.]])\n",
      "tensor([[6., 6., 6., 6.],\n",
      "        [6., 6., 6., 6.],\n",
      "        [6., 6., 6., 6.]])\n",
      "tensor([[-0.6106,  1.2443,  0.3514, -0.3527],\n",
      "        [ 0.8778,  0.5765,  1.2207, -1.8894],\n",
      "        [-0.4040, -0.4633, -0.5185, -0.0408]])\n"
     ]
    }
   ],
   "source": [
    "print(torch.full_like(input = random_tensor , fill_value=6))\n",
    "print(torch.rand_like(input = random_tensor))\n",
    "print(torch.ones_like(input = random_tensor))\n",
    "print(torch.zeros_like(input = random_tensor))\n",
    "print(torch.empty_like(input = random_tensor))\n",
    "print(torch.randn_like(input = random_tensor))\n",
    "\n",
    "\n"
   ]
  },
  {
   "cell_type": "markdown",
   "metadata": {},
   "source": [
    "### tensor dtypes"
   ]
  },
  {
   "cell_type": "code",
   "execution_count": 99,
   "metadata": {},
   "outputs": [
    {
     "name": "stdout",
     "output_type": "stream",
     "text": [
      "torch.float32\n",
      "torch.int64\n"
     ]
    }
   ],
   "source": [
    "# default - > float32 for float & int64 for int\n",
    "\n",
    "float_32 = torch.tensor([3.,4.,6.0])\n",
    "int_64 = torch.tensor([3,4,6])\n",
    "print(float_32.dtype)\n",
    "print(int_64.dtype)\n"
   ]
  },
  {
   "cell_type": "code",
   "execution_count": 106,
   "metadata": {},
   "outputs": [
    {
     "name": "stdout",
     "output_type": "stream",
     "text": [
      "torch.float16\n",
      "torch.float32\n",
      "torch.float64\n"
     ]
    }
   ],
   "source": [
    "float_16 = torch.tensor([3.,4.,6.0],\n",
    "                        dtype=torch.float16,\n",
    "                        device=torch.device('cpu'))\n",
    "float_32 = torch.tensor([3.,4.,6.0],\n",
    "                        dtype=torch.float32)\n",
    "float_64 = torch.tensor([3.,4.,6.0],\n",
    "                        dtype=torch.float64)\n",
    "\n",
    "print(float_16.dtype)\n",
    "print(float_32.dtype)\n",
    "print(float_64.dtype)"
   ]
  },
  {
   "cell_type": "code",
   "execution_count": 108,
   "metadata": {},
   "outputs": [
    {
     "data": {
      "text/plain": [
       "torch.float16"
      ]
     },
     "execution_count": 108,
     "metadata": {},
     "output_type": "execute_result"
    }
   ],
   "source": [
    "float_16_converted = float_64.type(torch.float16)\n",
    "float_16_converted.dtype"
   ]
  },
  {
   "cell_type": "markdown",
   "metadata": {},
   "source": [
    "### tensor manipulation"
   ]
  },
  {
   "cell_type": "code",
   "execution_count": 113,
   "metadata": {},
   "outputs": [
    {
     "name": "stdout",
     "output_type": "stream",
     "text": [
      "tensor([[1.5514, 1.4594, 1.3098, 1.8337],\n",
      "        [1.7474, 1.8303, 1.5966, 1.7660],\n",
      "        [1.8520, 1.7912, 1.3822, 1.2162]])\n",
      "tensor([[-0.4486, -0.5406, -0.6902, -0.1663],\n",
      "        [-0.2526, -0.1697, -0.4034, -0.2340],\n",
      "        [-0.1480, -0.2088, -0.6178, -0.7838]])\n",
      "tensor([[0.5514, 0.4594, 0.3098, 0.8337],\n",
      "        [0.7474, 0.8303, 0.5966, 0.7660],\n",
      "        [0.8520, 0.7912, 0.3822, 0.2162]])\n",
      "tensor([[0.5514, 0.4594, 0.3098, 0.8337],\n",
      "        [0.7474, 0.8303, 0.5966, 0.7660],\n",
      "        [0.8520, 0.7912, 0.3822, 0.2162]])\n"
     ]
    }
   ],
   "source": [
    "# addition\n",
    "\n",
    "print(torch.add(random_tensor,1))  # or print(random_tensor + 1)\n",
    "\n",
    "#subtraction \n",
    "\n",
    "print(torch.sub(random_tensor,1))  # or print(random_tensor - 1)\n",
    "\n",
    "# division\n",
    "\n",
    "print(torch.div(random_tensor,1))  # or print(random_tensor / 1)\n",
    "\n",
    "# scalar multiplication / element wise multiplication\n",
    "\n",
    "print(torch.mul(random_tensor,1))  # or print(random_tensor * 1)\n",
    "\n",
    "\n"
   ]
  },
  {
   "cell_type": "code",
   "execution_count": 121,
   "metadata": {},
   "outputs": [
    {
     "name": "stdout",
     "output_type": "stream",
     "text": [
      "tensor([[0.3040, 0.2110, 0.0960, 0.6950],\n",
      "        [0.5586, 0.6894, 0.3559, 0.5867],\n",
      "        [0.7260, 0.6259, 0.1461, 0.0467]])\n",
      "tensor([[1.3060, 1.6169, 1.1318],\n",
      "        [1.6169, 2.1907, 1.6873],\n",
      "        [1.1318, 1.6873, 1.5447]])\n"
     ]
    }
   ],
   "source": [
    "# matrix multiplcation \n",
    "   # -> element wise multiplication\n",
    "   # -> dotproduct\n",
    "   \n",
    "# -> element wise multiplication\n",
    "\n",
    "print(torch.mul(random_tensor,random_tensor))  #print(random_tensor * random_tensor)\n",
    "\n",
    "\n",
    "#  ->dot product\n",
    "\n",
    "rand_tensor = random_tensor.T                   #3x4  4x3\n",
    "print(torch.matmul(random_tensor,rand_tensor))  #or torch.mm()\n",
    "\n",
    "\n"
   ]
  },
  {
   "cell_type": "code",
   "execution_count": 122,
   "metadata": {},
   "outputs": [
    {
     "data": {
      "text/plain": [
       "tensor([[0.5514, 0.7474, 0.8520],\n",
       "        [0.4594, 0.8303, 0.7912],\n",
       "        [0.3098, 0.5966, 0.3822],\n",
       "        [0.8337, 0.7660, 0.2162]])"
      ]
     },
     "execution_count": 122,
     "metadata": {},
     "output_type": "execute_result"
    }
   ],
   "source": [
    "rand_tensor"
   ]
  },
  {
   "cell_type": "code",
   "execution_count": 125,
   "metadata": {},
   "outputs": [
    {
     "data": {
      "text/plain": [
       "tensor([[0.5514, 0.7474, 0.8520, 0.4594],\n",
       "        [0.8303, 0.7912, 0.3098, 0.5966],\n",
       "        [0.3822, 0.8337, 0.7660, 0.2162]])"
      ]
     },
     "execution_count": 125,
     "metadata": {},
     "output_type": "execute_result"
    }
   ],
   "source": [
    "rand_tensor.reshape(3,4)"
   ]
  },
  {
   "cell_type": "markdown",
   "metadata": {},
   "source": [
    "#### tensor aggregation"
   ]
  },
  {
   "cell_type": "code",
   "execution_count": 127,
   "metadata": {},
   "outputs": [
    {
     "data": {
      "text/plain": [
       "tensor([0, 1, 2, 3, 4, 5, 6, 7, 8, 9])"
      ]
     },
     "execution_count": 127,
     "metadata": {},
     "output_type": "execute_result"
    }
   ],
   "source": [
    "x = torch.arange(0,10)\n",
    "x"
   ]
  },
  {
   "cell_type": "code",
   "execution_count": 130,
   "metadata": {},
   "outputs": [
    {
     "name": "stdout",
     "output_type": "stream",
     "text": [
      "tensor(9)\n",
      "tensor(0)\n"
     ]
    }
   ],
   "source": [
    "print(torch.max(x))\n",
    "print(torch.min(x))"
   ]
  },
  {
   "cell_type": "code",
   "execution_count": 137,
   "metadata": {},
   "outputs": [
    {
     "data": {
      "text/plain": [
       "tensor(4.5000, dtype=torch.float64)"
      ]
     },
     "execution_count": 137,
     "metadata": {},
     "output_type": "execute_result"
    }
   ],
   "source": [
    "#torch.mean(x.type(torch.int32)) -> ERROR\n",
    "\n",
    "# torch.mean() work with only float datatype\n",
    "\n",
    "torch.mean(x.type(torch.float64))"
   ]
  },
  {
   "cell_type": "code",
   "execution_count": 138,
   "metadata": {},
   "outputs": [
    {
     "data": {
      "text/plain": [
       "tensor(45)"
      ]
     },
     "execution_count": 138,
     "metadata": {},
     "output_type": "execute_result"
    }
   ],
   "source": [
    "torch.sum(x)"
   ]
  },
  {
   "cell_type": "markdown",
   "metadata": {},
   "source": [
    "#### position of min, max   ==> argmin ,agrmax"
   ]
  },
  {
   "cell_type": "code",
   "execution_count": 145,
   "metadata": {},
   "outputs": [
    {
     "name": "stdout",
     "output_type": "stream",
     "text": [
      "tensor(0)\n",
      "tensor(9)\n",
      "tensor([0, 1, 2, 3, 4, 5, 6, 7, 8, 9])\n",
      "tensor([[1],\n",
      "        [2],\n",
      "        [3],\n",
      "        [4],\n",
      "        [5],\n",
      "        [6],\n",
      "        [7],\n",
      "        [8],\n",
      "        [9]])\n"
     ]
    }
   ],
   "source": [
    "# return index\n",
    "\n",
    "print(torch.argmin(x))\n",
    "print(torch.argmax(x))\n",
    "print(torch.argsort(x))\n",
    "print(torch.argwhere(x))"
   ]
  },
  {
   "cell_type": "markdown",
   "metadata": {},
   "source": [
    "#### reshaping , stacking , squeezing , unsqueezing , tensors "
   ]
  },
  {
   "cell_type": "code",
   "execution_count": 151,
   "metadata": {},
   "outputs": [
    {
     "name": "stdout",
     "output_type": "stream",
     "text": [
      "Reshaped Tensor:\n",
      " tensor([[0.5514, 0.4594, 0.3098, 0.8337, 0.7474, 0.8303],\n",
      "        [0.5966, 0.7660, 0.8520, 0.7912, 0.3822, 0.2162]])\n",
      "Reshaped Tensor:\n",
      " tensor([[0.5514, 0.4594],\n",
      "        [0.3098, 0.8337],\n",
      "        [0.7474, 0.8303],\n",
      "        [0.5966, 0.7660],\n",
      "        [0.8520, 0.7912],\n",
      "        [0.3822, 0.2162]])\n",
      "Stacked Tensor:\n",
      " tensor([[[0.5514, 0.4594, 0.3098, 0.8337],\n",
      "         [0.7474, 0.8303, 0.5966, 0.7660],\n",
      "         [0.8520, 0.7912, 0.3822, 0.2162]],\n",
      "\n",
      "        [[0.5514, 0.4594, 0.3098, 0.8337],\n",
      "         [0.7474, 0.8303, 0.5966, 0.7660],\n",
      "         [0.8520, 0.7912, 0.3822, 0.2162]]])\n",
      "horizatally stacked Tensor:\n",
      " tensor([[0.5514, 0.4594, 0.3098, 0.8337, 0.5514, 0.4594, 0.3098, 0.8337],\n",
      "        [0.7474, 0.8303, 0.5966, 0.7660, 0.7474, 0.8303, 0.5966, 0.7660],\n",
      "        [0.8520, 0.7912, 0.3822, 0.2162, 0.8520, 0.7912, 0.3822, 0.2162]])\n",
      "vertically stacked Tensor:\n",
      " tensor([[0.5514, 0.4594, 0.3098, 0.8337],\n",
      "        [0.7474, 0.8303, 0.5966, 0.7660],\n",
      "        [0.8520, 0.7912, 0.3822, 0.2162],\n",
      "        [0.5514, 0.4594, 0.3098, 0.8337],\n",
      "        [0.7474, 0.8303, 0.5966, 0.7660],\n",
      "        [0.8520, 0.7912, 0.3822, 0.2162]])\n",
      "Squeezed Tensor:\n",
      " tensor([[2, 3],\n",
      "        [4, 5]])\n",
      "Unsqueezed Tensor:\n",
      " tensor([[[[2, 3],\n",
      "          [4, 5]]]])\n"
     ]
    }
   ],
   "source": [
    "# Reshaping  or View\n",
    "reshaped_tensor = random_tensor.reshape(2, 6)  \n",
    "print(\"Reshaped Tensor:\\n\", reshaped_tensor)\n",
    "\n",
    "\n",
    "#view\n",
    "reshaped_tensor = random_tensor.view(6, 2)  \n",
    "print(\"Reshaped Tensor:\\n\", reshaped_tensor)\n",
    "\n",
    "# Stacking\n",
    "stacked_tensor = torch.stack([random_tensor, random_tensor], dim=0)\n",
    "print(\"Stacked Tensor:\\n\", stacked_tensor)\n",
    "\n",
    "# hstack\n",
    "\n",
    "stacked_tensor = torch.hstack([random_tensor, random_tensor])\n",
    "print(\"horizatally stacked Tensor:\\n\", stacked_tensor)\n",
    "\n",
    "#vsatck\n",
    "\n",
    "stacked_tensor = torch.vstack([random_tensor, random_tensor])\n",
    "print(\"vertically stacked Tensor:\\n\", stacked_tensor)\n",
    "\n",
    "# Squeezing\n",
    "squeezed_tensor = tensor.squeeze()\n",
    "print(\"Squeezed Tensor:\\n\", squeezed_tensor)\n",
    "\n",
    "# Unsqueezing\n",
    "unsqueezed_tensor = tensor.unsqueeze(0)    #-> dimentions value\n",
    "print(\"Unsqueezed Tensor:\\n\", unsqueezed_tensor)"
   ]
  },
  {
   "cell_type": "code",
   "execution_count": 158,
   "metadata": {},
   "outputs": [
    {
     "name": "stdout",
     "output_type": "stream",
     "text": [
      "torch.Size([255, 255, 3])\n",
      "torch.Size([3, 255, 255])\n"
     ]
    }
   ],
   "source": [
    "# torch.permute  -> rearranges the dimentions\n",
    "\n",
    "x = torch.rand(size=(255,255,3))\n",
    "print(x.shape)\n",
    "x_permute = torch.permute(x,(2,1,0))\n",
    "print(x_permute.shape)"
   ]
  },
  {
   "cell_type": "code",
   "execution_count": 159,
   "metadata": {},
   "outputs": [
    {
     "data": {
      "text/plain": [
       "tensor([[[0.0652, 0.2087, 0.7798],\n",
       "         [0.2118, 0.7521, 0.6565],\n",
       "         [0.7503, 0.2111, 0.2311],\n",
       "         ...,\n",
       "         [0.4871, 0.4211, 0.4690],\n",
       "         [0.2308, 0.8311, 0.8363],\n",
       "         [0.6798, 0.6956, 0.8648]],\n",
       "\n",
       "        [[0.2166, 0.7683, 0.3343],\n",
       "         [0.9050, 0.3830, 0.9554],\n",
       "         [0.9764, 0.5714, 0.5163],\n",
       "         ...,\n",
       "         [0.6984, 0.9035, 0.4730],\n",
       "         [0.7156, 0.8266, 0.7465],\n",
       "         [0.3788, 0.2924, 0.3780]],\n",
       "\n",
       "        [[0.0160, 0.7923, 0.9683],\n",
       "         [0.2221, 0.6460, 0.9257],\n",
       "         [0.2211, 0.6041, 0.4555],\n",
       "         ...,\n",
       "         [0.9768, 0.2683, 0.6444],\n",
       "         [0.6635, 0.7270, 0.9887],\n",
       "         [0.7842, 0.3451, 0.5363]],\n",
       "\n",
       "        ...,\n",
       "\n",
       "        [[0.3569, 0.7194, 0.5843],\n",
       "         [0.9328, 0.3427, 0.3881],\n",
       "         [0.4043, 0.2811, 0.8405],\n",
       "         ...,\n",
       "         [0.4194, 0.6556, 0.1070],\n",
       "         [0.2222, 0.5260, 0.1580],\n",
       "         [0.0016, 0.0076, 0.2481]],\n",
       "\n",
       "        [[0.7646, 0.0195, 0.9598],\n",
       "         [0.6362, 0.1219, 0.9529],\n",
       "         [0.5867, 0.7371, 0.6594],\n",
       "         ...,\n",
       "         [0.0142, 0.4538, 0.6132],\n",
       "         [0.7471, 0.1226, 0.7021],\n",
       "         [0.8247, 0.7633, 0.7908]],\n",
       "\n",
       "        [[0.2217, 0.6326, 0.7698],\n",
       "         [0.7641, 0.3769, 0.6540],\n",
       "         [0.9509, 0.1897, 0.8061],\n",
       "         ...,\n",
       "         [0.8931, 0.7150, 0.9968],\n",
       "         [0.0066, 0.8486, 0.2013],\n",
       "         [0.9997, 0.4255, 0.9471]]])"
      ]
     },
     "execution_count": 159,
     "metadata": {},
     "output_type": "execute_result"
    }
   ],
   "source": [
    "x"
   ]
  },
  {
   "cell_type": "code",
   "execution_count": 160,
   "metadata": {},
   "outputs": [
    {
     "data": {
      "text/plain": [
       "tensor([[[0.0652, 0.2166, 0.0160,  ..., 0.3569, 0.7646, 0.2217],\n",
       "         [0.2118, 0.9050, 0.2221,  ..., 0.9328, 0.6362, 0.7641],\n",
       "         [0.7503, 0.9764, 0.2211,  ..., 0.4043, 0.5867, 0.9509],\n",
       "         ...,\n",
       "         [0.4871, 0.6984, 0.9768,  ..., 0.4194, 0.0142, 0.8931],\n",
       "         [0.2308, 0.7156, 0.6635,  ..., 0.2222, 0.7471, 0.0066],\n",
       "         [0.6798, 0.3788, 0.7842,  ..., 0.0016, 0.8247, 0.9997]],\n",
       "\n",
       "        [[0.2087, 0.7683, 0.7923,  ..., 0.7194, 0.0195, 0.6326],\n",
       "         [0.7521, 0.3830, 0.6460,  ..., 0.3427, 0.1219, 0.3769],\n",
       "         [0.2111, 0.5714, 0.6041,  ..., 0.2811, 0.7371, 0.1897],\n",
       "         ...,\n",
       "         [0.4211, 0.9035, 0.2683,  ..., 0.6556, 0.4538, 0.7150],\n",
       "         [0.8311, 0.8266, 0.7270,  ..., 0.5260, 0.1226, 0.8486],\n",
       "         [0.6956, 0.2924, 0.3451,  ..., 0.0076, 0.7633, 0.4255]],\n",
       "\n",
       "        [[0.7798, 0.3343, 0.9683,  ..., 0.5843, 0.9598, 0.7698],\n",
       "         [0.6565, 0.9554, 0.9257,  ..., 0.3881, 0.9529, 0.6540],\n",
       "         [0.2311, 0.5163, 0.4555,  ..., 0.8405, 0.6594, 0.8061],\n",
       "         ...,\n",
       "         [0.4690, 0.4730, 0.6444,  ..., 0.1070, 0.6132, 0.9968],\n",
       "         [0.8363, 0.7465, 0.9887,  ..., 0.1580, 0.7021, 0.2013],\n",
       "         [0.8648, 0.3780, 0.5363,  ..., 0.2481, 0.7908, 0.9471]]])"
      ]
     },
     "execution_count": 160,
     "metadata": {},
     "output_type": "execute_result"
    }
   ],
   "source": [
    "x_permute"
   ]
  },
  {
   "cell_type": "markdown",
   "metadata": {},
   "source": [
    "### indexing"
   ]
  },
  {
   "cell_type": "code",
   "execution_count": 177,
   "metadata": {},
   "outputs": [
    {
     "data": {
      "text/plain": [
       "tensor([[[1, 2, 3],\n",
       "         [4, 5, 6],\n",
       "         [7, 8, 9]]])"
      ]
     },
     "execution_count": 177,
     "metadata": {},
     "output_type": "execute_result"
    }
   ],
   "source": [
    "x = torch.arange(1,10).reshape(1,3,3)\n",
    "x"
   ]
  },
  {
   "cell_type": "code",
   "execution_count": 184,
   "metadata": {},
   "outputs": [
    {
     "name": "stdout",
     "output_type": "stream",
     "text": [
      "tensor([[[1, 2, 3],\n",
      "         [4, 5, 6],\n",
      "         [7, 8, 9]]])\n",
      "tensor([[1, 2, 3],\n",
      "        [4, 5, 6],\n",
      "        [7, 8, 9]])\n",
      "tensor([1, 2, 3])\n",
      "tensor(1)\n"
     ]
    },
    {
     "data": {
      "text/plain": [
       "(None, None, None, None)"
      ]
     },
     "execution_count": 184,
     "metadata": {},
     "output_type": "execute_result"
    }
   ],
   "source": [
    "print(x),print(x[0]),print(x[0][0]),print(x[0][0][0])"
   ]
  },
  {
   "cell_type": "code",
   "execution_count": 193,
   "metadata": {},
   "outputs": [
    {
     "name": "stdout",
     "output_type": "stream",
     "text": [
      "tensor([[[1, 2, 3],\n",
      "         [4, 5, 6],\n",
      "         [7, 8, 9]]])\n",
      "tensor([[1, 2, 3],\n",
      "        [4, 5, 6],\n",
      "        [7, 8, 9]])\n",
      "tensor([[7, 8, 9]])\n",
      "tensor([[3, 6, 9]])\n",
      "tensor([[[1, 2, 3],\n",
      "         [4, 5, 6],\n",
      "         [7, 8, 9]]])\n",
      "tensor([[1, 2, 3],\n",
      "        [4, 5, 6],\n",
      "        [7, 8, 9]])\n"
     ]
    },
    {
     "data": {
      "text/plain": [
       "(None, None, None, None, None, None)"
      ]
     },
     "execution_count": 193,
     "metadata": {},
     "output_type": "execute_result"
    }
   ],
   "source": [
    "print(x[:, : ,:]) , print(x[0,:,:]),print(x[:,2 ,:]),print(x[:, : ,2]),print(x[: ,:]),print(x[0,:])"
   ]
  },
  {
   "cell_type": "markdown",
   "metadata": {},
   "source": [
    "## PyTorch Tensors & Numpy"
   ]
  },
  {
   "cell_type": "code",
   "execution_count": 194,
   "metadata": {},
   "outputs": [],
   "source": [
    "import numpy as np"
   ]
  },
  {
   "cell_type": "code",
   "execution_count": 202,
   "metadata": {},
   "outputs": [
    {
     "name": "stdout",
     "output_type": "stream",
     "text": [
      "<class 'numpy.ndarray'>\n",
      "<class 'torch.Tensor'>\n"
     ]
    }
   ],
   "source": [
    "np_array = np.arange(1,9)\n",
    "torch_tensor = torch.arange(1,9)\n",
    "print(type(np_array))\n",
    "print(type(torch_tensor))"
   ]
  },
  {
   "cell_type": "code",
   "execution_count": 205,
   "metadata": {},
   "outputs": [
    {
     "name": "stdout",
     "output_type": "stream",
     "text": [
      "tensor([1, 2, 3, 4, 5, 6, 7, 8], dtype=torch.int32)\n",
      "<class 'torch.Tensor'>\n",
      "[1 2 3 4 5 6 7 8]\n",
      "<class 'numpy.ndarray'>\n"
     ]
    },
    {
     "data": {
      "text/plain": [
       "(None, None)"
      ]
     },
     "execution_count": 205,
     "metadata": {},
     "output_type": "execute_result"
    }
   ],
   "source": [
    "numpy_to_torch = torch.from_numpy(np_array)\n",
    "print(numpy_to_torch),print(type(numpy_to_torch))\n",
    "torch_to_numpy = torch_tensor.numpy()\n",
    "print(torch_to_numpy),print(type(torch_to_numpy))"
   ]
  },
  {
   "cell_type": "code",
   "execution_count": null,
   "metadata": {},
   "outputs": [],
   "source": []
  },
  {
   "cell_type": "code",
   "execution_count": null,
   "metadata": {},
   "outputs": [],
   "source": []
  }
 ],
 "metadata": {
  "kernelspec": {
   "display_name": "Python 3",
   "language": "python",
   "name": "python3"
  },
  "language_info": {
   "codemirror_mode": {
    "name": "ipython",
    "version": 3
   },
   "file_extension": ".py",
   "mimetype": "text/x-python",
   "name": "python",
   "nbconvert_exporter": "python",
   "pygments_lexer": "ipython3",
   "version": "3.12.6"
  }
 },
 "nbformat": 4,
 "nbformat_minor": 2
}
