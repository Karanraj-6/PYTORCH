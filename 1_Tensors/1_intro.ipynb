{
 "cells": [
  {
   "cell_type": "code",
   "execution_count": 2,
   "metadata": {},
   "outputs": [],
   "source": [
    "import torch"
   ]
  },
  {
   "cell_type": "code",
   "execution_count": 30,
   "metadata": {},
   "outputs": [
    {
     "data": {
      "text/plain": [
       "tensor(3)"
      ]
     },
     "execution_count": 30,
     "metadata": {},
     "output_type": "execute_result"
    }
   ],
   "source": [
    "scaler = torch.tensor(3)\n",
    "scaler"
   ]
  },
  {
   "cell_type": "code",
   "execution_count": 31,
   "metadata": {},
   "outputs": [
    {
     "data": {
      "text/plain": [
       "3"
      ]
     },
     "execution_count": 31,
     "metadata": {},
     "output_type": "execute_result"
    }
   ],
   "source": [
    "#item  - > .item() extracts the lone value from a tensor that's been carefully crafted to contain just one element.  **work with only one element** \n",
    "scaler.item()\n"
   ]
  },
  {
   "cell_type": "code",
   "execution_count": 33,
   "metadata": {},
   "outputs": [
    {
     "data": {
      "text/plain": [
       "tensor([2, 3, 4, 5, 6])"
      ]
     },
     "execution_count": 33,
     "metadata": {},
     "output_type": "execute_result"
    }
   ],
   "source": [
    "vector = torch.tensor([2,3,4,5,6])\n",
    "vector"
   ]
  },
  {
   "cell_type": "code",
   "execution_count": 40,
   "metadata": {},
   "outputs": [
    {
     "data": {
      "text/plain": [
       "list"
      ]
     },
     "execution_count": 40,
     "metadata": {},
     "output_type": "execute_result"
    }
   ],
   "source": [
    "#tolist()  -> coverts tensor to list\n",
    "v=vector.tolist()\n",
    "type(v)"
   ]
  },
  {
   "cell_type": "code",
   "execution_count": 44,
   "metadata": {},
   "outputs": [],
   "source": [
    "matrix = torch.tensor([[2,3],\n",
    "                       [4,5]])"
   ]
  },
  {
   "cell_type": "code",
   "execution_count": 51,
   "metadata": {},
   "outputs": [
    {
     "name": "stdout",
     "output_type": "stream",
     "text": [
      "2\n"
     ]
    },
    {
     "data": {
      "text/plain": [
       "torch.Size([2, 2])"
      ]
     },
     "execution_count": 51,
     "metadata": {},
     "output_type": "execute_result"
    }
   ],
   "source": [
    "print(matrix.ndim)\n",
    "matrix.size() #shape()\n"
   ]
  },
  {
   "cell_type": "code",
   "execution_count": 55,
   "metadata": {},
   "outputs": [],
   "source": [
    "tensor = torch.tensor([[[2,3],\n",
    "                       [4,5]]])"
   ]
  },
  {
   "cell_type": "code",
   "execution_count": 57,
   "metadata": {},
   "outputs": [
    {
     "name": "stdout",
     "output_type": "stream",
     "text": [
      "3\n"
     ]
    },
    {
     "data": {
      "text/plain": [
       "torch.Size([1, 2, 2])"
      ]
     },
     "execution_count": 57,
     "metadata": {},
     "output_type": "execute_result"
    }
   ],
   "source": [
    "print(tensor.ndim)\n",
    "tensor.size() #shape()"
   ]
  },
  {
   "cell_type": "markdown",
   "metadata": {},
   "source": [
    "### Random tensors"
   ]
  },
  {
   "cell_type": "code",
   "execution_count": 61,
   "metadata": {},
   "outputs": [
    {
     "data": {
      "text/plain": [
       "tensor([[0.5514, 0.4594, 0.3098, 0.8337],\n",
       "        [0.7474, 0.8303, 0.5966, 0.7660],\n",
       "        [0.8520, 0.7912, 0.3822, 0.2162]])"
      ]
     },
     "execution_count": 61,
     "metadata": {},
     "output_type": "execute_result"
    }
   ],
   "source": [
    "random_tensor  = torch.rand(3,4)\n",
    "random_tensor"
   ]
  },
  {
   "cell_type": "code",
   "execution_count": 63,
   "metadata": {},
   "outputs": [
    {
     "data": {
      "text/plain": [
       "tensor([[[0.8169, 0.3321, 0.1087],\n",
       "         [0.0825, 0.5125, 0.7747],\n",
       "         [0.9768, 0.4734, 0.0389]],\n",
       "\n",
       "        [[0.2240, 0.9190, 0.6691],\n",
       "         [0.9189, 0.0542, 0.1549],\n",
       "         [0.2184, 0.5774, 0.8134]]])"
      ]
     },
     "execution_count": 63,
     "metadata": {},
     "output_type": "execute_result"
    }
   ],
   "source": [
    "random_tensor1  = torch.rand(2,3,3)\n",
    "random_tensor1"
   ]
  },
  {
   "cell_type": "markdown",
   "metadata": {},
   "source": [
    "### Zeros and Ones"
   ]
  },
  {
   "cell_type": "code",
   "execution_count": 64,
   "metadata": {},
   "outputs": [
    {
     "data": {
      "text/plain": [
       "tensor([[0., 0., 0.],\n",
       "        [0., 0., 0.],\n",
       "        [0., 0., 0.]])"
      ]
     },
     "execution_count": 64,
     "metadata": {},
     "output_type": "execute_result"
    }
   ],
   "source": [
    "zero_tensor = torch.zeros(size=(3, 3))\n",
    "zero_tensor"
   ]
  },
  {
   "cell_type": "code",
   "execution_count": 68,
   "metadata": {},
   "outputs": [
    {
     "data": {
      "text/plain": [
       "tensor([[1., 1., 1.],\n",
       "        [1., 1., 1.],\n",
       "        [1., 1., 1.]], dtype=torch.float16)"
      ]
     },
     "execution_count": 68,
     "metadata": {},
     "output_type": "execute_result"
    }
   ],
   "source": [
    "ones_tensor = torch.ones(size=(3, 3),dtype=torch.float16)\n",
    "ones_tensor"
   ]
  },
  {
   "cell_type": "markdown",
   "metadata": {},
   "source": [
    "### range / arange"
   ]
  },
  {
   "cell_type": "code",
   "execution_count": 73,
   "metadata": {},
   "outputs": [
    {
     "name": "stderr",
     "output_type": "stream",
     "text": [
      "C:\\Users\\ASUS\\AppData\\Local\\Temp\\ipykernel_2772\\3572756921.py:1: UserWarning: torch.range is deprecated and will be removed in a future release because its behavior is inconsistent with Python's range builtin. Instead, use torch.arange, which produces values in [start, end).\n",
      "  torch.range(2,4) #deprecate\n"
     ]
    },
    {
     "data": {
      "text/plain": [
       "tensor([2., 3., 4.])"
      ]
     },
     "execution_count": 73,
     "metadata": {},
     "output_type": "execute_result"
    }
   ],
   "source": [
    "torch.range(2,4) #deprecate"
   ]
  },
  {
   "cell_type": "code",
   "execution_count": 76,
   "metadata": {},
   "outputs": [
    {
     "data": {
      "text/plain": [
       "tensor([2, 3, 4, 5])"
      ]
     },
     "execution_count": 76,
     "metadata": {},
     "output_type": "execute_result"
    }
   ],
   "source": [
    "torch.arange(2,6)"
   ]
  },
  {
   "cell_type": "code",
   "execution_count": 77,
   "metadata": {},
   "outputs": [
    {
     "data": {
      "text/plain": [
       "tensor([ 2,  5,  8, 11, 14, 17, 20, 23, 26, 29, 32, 35, 38, 41, 44, 47, 50, 53,\n",
       "        56, 59])"
      ]
     },
     "execution_count": 77,
     "metadata": {},
     "output_type": "execute_result"
    }
   ],
   "source": [
    "torch.arange(start=2 ,end=60, step=3)"
   ]
  },
  {
   "cell_type": "markdown",
   "metadata": {},
   "source": [
    "### tensor like"
   ]
  },
  {
   "cell_type": "code",
   "execution_count": 89,
   "metadata": {},
   "outputs": [
    {
     "name": "stdout",
     "output_type": "stream",
     "text": [
      "tensor([[6., 6., 6., 6.],\n",
      "        [6., 6., 6., 6.],\n",
      "        [6., 6., 6., 6.]])\n",
      "tensor([[0.0727, 0.5268, 0.1551, 0.1483],\n",
      "        [0.9812, 0.0748, 0.9865, 0.1721],\n",
      "        [0.5440, 0.2240, 0.4617, 0.1707]])\n",
      "tensor([[1., 1., 1., 1.],\n",
      "        [1., 1., 1., 1.],\n",
      "        [1., 1., 1., 1.]])\n",
      "tensor([[0., 0., 0., 0.],\n",
      "        [0., 0., 0., 0.],\n",
      "        [0., 0., 0., 0.]])\n",
      "tensor([[6., 6., 6., 6.],\n",
      "        [6., 6., 6., 6.],\n",
      "        [6., 6., 6., 6.]])\n",
      "tensor([[-0.6106,  1.2443,  0.3514, -0.3527],\n",
      "        [ 0.8778,  0.5765,  1.2207, -1.8894],\n",
      "        [-0.4040, -0.4633, -0.5185, -0.0408]])\n"
     ]
    }
   ],
   "source": [
    "print(torch.full_like(input = random_tensor , fill_value=6))\n",
    "print(torch.rand_like(input = random_tensor))\n",
    "print(torch.ones_like(input = random_tensor))\n",
    "print(torch.zeros_like(input = random_tensor))\n",
    "print(torch.empty_like(input = random_tensor))\n",
    "print(torch.randn_like(input = random_tensor))\n",
    "\n",
    "\n"
   ]
  },
  {
   "cell_type": "markdown",
   "metadata": {},
   "source": [
    "### tensor dtypes"
   ]
  },
  {
   "cell_type": "code",
   "execution_count": 99,
   "metadata": {},
   "outputs": [
    {
     "name": "stdout",
     "output_type": "stream",
     "text": [
      "torch.float32\n",
      "torch.int64\n"
     ]
    }
   ],
   "source": [
    "# default - > float32 for float & int64 for int\n",
    "\n",
    "float_32 = torch.tensor([3.,4.,6.0])\n",
    "int_64 = torch.tensor([3,4,6])\n",
    "print(float_32.dtype)\n",
    "print(int_64.dtype)\n"
   ]
  },
  {
   "cell_type": "code",
   "execution_count": 106,
   "metadata": {},
   "outputs": [
    {
     "name": "stdout",
     "output_type": "stream",
     "text": [
      "torch.float16\n",
      "torch.float32\n",
      "torch.float64\n"
     ]
    }
   ],
   "source": [
    "float_16 = torch.tensor([3.,4.,6.0],\n",
    "                        dtype=torch.float16,\n",
    "                        device=torch.device('cpu'))\n",
    "float_32 = torch.tensor([3.,4.,6.0],\n",
    "                        dtype=torch.float32)\n",
    "float_64 = torch.tensor([3.,4.,6.0],\n",
    "                        dtype=torch.float64)\n",
    "\n",
    "print(float_16.dtype)\n",
    "print(float_32.dtype)\n",
    "print(float_64.dtype)"
   ]
  },
  {
   "cell_type": "code",
   "execution_count": 108,
   "metadata": {},
   "outputs": [
    {
     "data": {
      "text/plain": [
       "torch.float16"
      ]
     },
     "execution_count": 108,
     "metadata": {},
     "output_type": "execute_result"
    }
   ],
   "source": [
    "float_16_converted = float_64.type(torch.float16)\n",
    "float_16_converted.dtype"
   ]
  },
  {
   "cell_type": "markdown",
   "metadata": {},
   "source": [
    "### tensor manipulation"
   ]
  },
  {
   "cell_type": "code",
   "execution_count": 113,
   "metadata": {},
   "outputs": [
    {
     "name": "stdout",
     "output_type": "stream",
     "text": [
      "tensor([[1.5514, 1.4594, 1.3098, 1.8337],\n",
      "        [1.7474, 1.8303, 1.5966, 1.7660],\n",
      "        [1.8520, 1.7912, 1.3822, 1.2162]])\n",
      "tensor([[-0.4486, -0.5406, -0.6902, -0.1663],\n",
      "        [-0.2526, -0.1697, -0.4034, -0.2340],\n",
      "        [-0.1480, -0.2088, -0.6178, -0.7838]])\n",
      "tensor([[0.5514, 0.4594, 0.3098, 0.8337],\n",
      "        [0.7474, 0.8303, 0.5966, 0.7660],\n",
      "        [0.8520, 0.7912, 0.3822, 0.2162]])\n",
      "tensor([[0.5514, 0.4594, 0.3098, 0.8337],\n",
      "        [0.7474, 0.8303, 0.5966, 0.7660],\n",
      "        [0.8520, 0.7912, 0.3822, 0.2162]])\n"
     ]
    }
   ],
   "source": [
    "# addition\n",
    "\n",
    "print(torch.add(random_tensor,1))  # or print(random_tensor + 1)\n",
    "\n",
    "#subtraction \n",
    "\n",
    "print(torch.sub(random_tensor,1))  # or print(random_tensor - 1)\n",
    "\n",
    "# division\n",
    "\n",
    "print(torch.div(random_tensor,1))  # or print(random_tensor / 1)\n",
    "\n",
    "# scalar multiplication / element wise multiplication\n",
    "\n",
    "print(torch.mul(random_tensor,1))  # or print(random_tensor * 1)\n",
    "\n",
    "\n"
   ]
  },
  {
   "cell_type": "code",
   "execution_count": 121,
   "metadata": {},
   "outputs": [
    {
     "name": "stdout",
     "output_type": "stream",
     "text": [
      "tensor([[0.3040, 0.2110, 0.0960, 0.6950],\n",
      "        [0.5586, 0.6894, 0.3559, 0.5867],\n",
      "        [0.7260, 0.6259, 0.1461, 0.0467]])\n",
      "tensor([[1.3060, 1.6169, 1.1318],\n",
      "        [1.6169, 2.1907, 1.6873],\n",
      "        [1.1318, 1.6873, 1.5447]])\n"
     ]
    }
   ],
   "source": [
    "# matrix multiplcation \n",
    "   # -> element wise multiplication\n",
    "   # -> dotproduct\n",
    "   \n",
    "# -> element wise multiplication\n",
    "\n",
    "print(torch.mul(random_tensor,random_tensor))  #print(random_tensor * random_tensor)\n",
    "\n",
    "\n",
    "#  ->dot product\n",
    "\n",
    "rand_tensor = random_tensor.T                   #3x4  4x3\n",
    "print(torch.matmul(random_tensor,rand_tensor))  #or torch.mm()\n",
    "\n",
    "\n"
   ]
  },
  {
   "cell_type": "code",
   "execution_count": 122,
   "metadata": {},
   "outputs": [
    {
     "data": {
      "text/plain": [
       "tensor([[0.5514, 0.7474, 0.8520],\n",
       "        [0.4594, 0.8303, 0.7912],\n",
       "        [0.3098, 0.5966, 0.3822],\n",
       "        [0.8337, 0.7660, 0.2162]])"
      ]
     },
     "execution_count": 122,
     "metadata": {},
     "output_type": "execute_result"
    }
   ],
   "source": [
    "rand_tensor"
   ]
  },
  {
   "cell_type": "code",
   "execution_count": 125,
   "metadata": {},
   "outputs": [
    {
     "data": {
      "text/plain": [
       "tensor([[0.5514, 0.7474, 0.8520, 0.4594],\n",
       "        [0.8303, 0.7912, 0.3098, 0.5966],\n",
       "        [0.3822, 0.8337, 0.7660, 0.2162]])"
      ]
     },
     "execution_count": 125,
     "metadata": {},
     "output_type": "execute_result"
    }
   ],
   "source": [
    "rand_tensor.reshape(3,4)"
   ]
  },
  {
   "cell_type": "markdown",
   "metadata": {},
   "source": [
    "### tensor aggregation"
   ]
  },
  {
   "cell_type": "code",
   "execution_count": 127,
   "metadata": {},
   "outputs": [
    {
     "data": {
      "text/plain": [
       "tensor([0, 1, 2, 3, 4, 5, 6, 7, 8, 9])"
      ]
     },
     "execution_count": 127,
     "metadata": {},
     "output_type": "execute_result"
    }
   ],
   "source": [
    "x = torch.arange(0,10)\n",
    "x"
   ]
  },
  {
   "cell_type": "code",
   "execution_count": 130,
   "metadata": {},
   "outputs": [
    {
     "name": "stdout",
     "output_type": "stream",
     "text": [
      "tensor(9)\n",
      "tensor(0)\n"
     ]
    }
   ],
   "source": [
    "print(torch.max(x))\n",
    "print(torch.min(x))"
   ]
  },
  {
   "cell_type": "code",
   "execution_count": 137,
   "metadata": {},
   "outputs": [
    {
     "data": {
      "text/plain": [
       "tensor(4.5000, dtype=torch.float64)"
      ]
     },
     "execution_count": 137,
     "metadata": {},
     "output_type": "execute_result"
    }
   ],
   "source": [
    "#torch.mean(x.type(torch.int32)) -> ERROR\n",
    "\n",
    "# torch.mean() work with only float datatype\n",
    "\n",
    "torch.mean(x.type(torch.float64))"
   ]
  },
  {
   "cell_type": "code",
   "execution_count": 138,
   "metadata": {},
   "outputs": [
    {
     "data": {
      "text/plain": [
       "tensor(45)"
      ]
     },
     "execution_count": 138,
     "metadata": {},
     "output_type": "execute_result"
    }
   ],
   "source": [
    "torch.sum(x)"
   ]
  },
  {
   "cell_type": "markdown",
   "metadata": {},
   "source": [
    "### position of min, max   ==> argmin ,agrmax"
   ]
  },
  {
   "cell_type": "code",
   "execution_count": 145,
   "metadata": {},
   "outputs": [
    {
     "name": "stdout",
     "output_type": "stream",
     "text": [
      "tensor(0)\n",
      "tensor(9)\n",
      "tensor([0, 1, 2, 3, 4, 5, 6, 7, 8, 9])\n",
      "tensor([[1],\n",
      "        [2],\n",
      "        [3],\n",
      "        [4],\n",
      "        [5],\n",
      "        [6],\n",
      "        [7],\n",
      "        [8],\n",
      "        [9]])\n"
     ]
    }
   ],
   "source": [
    "# return index\n",
    "\n",
    "print(torch.argmin(x))\n",
    "print(torch.argmax(x))\n",
    "print(torch.argsort(x))\n",
    "print(torch.argwhere(x))"
   ]
  },
  {
   "cell_type": "markdown",
   "metadata": {},
   "source": []
  },
  {
   "cell_type": "code",
   "execution_count": null,
   "metadata": {},
   "outputs": [],
   "source": []
  }
 ],
 "metadata": {
  "kernelspec": {
   "display_name": "Python 3",
   "language": "python",
   "name": "python3"
  },
  "language_info": {
   "codemirror_mode": {
    "name": "ipython",
    "version": 3
   },
   "file_extension": ".py",
   "mimetype": "text/x-python",
   "name": "python",
   "nbconvert_exporter": "python",
   "pygments_lexer": "ipython3",
   "version": "3.12.6"
  }
 },
 "nbformat": 4,
 "nbformat_minor": 2
}
