{
 "cells": [
  {
   "cell_type": "code",
   "execution_count": 1,
   "metadata": {},
   "outputs": [],
   "source": [
    "import torch"
   ]
  },
  {
   "cell_type": "code",
   "execution_count": 2,
   "metadata": {},
   "outputs": [
    {
     "data": {
      "text/plain": [
       "tensor(3)"
      ]
     },
     "execution_count": 2,
     "metadata": {},
     "output_type": "execute_result"
    }
   ],
   "source": [
    "scaler = torch.tensor(3)\n",
    "scaler"
   ]
  },
  {
   "cell_type": "code",
   "execution_count": 3,
   "metadata": {},
   "outputs": [
    {
     "data": {
      "text/plain": [
       "3"
      ]
     },
     "execution_count": 3,
     "metadata": {},
     "output_type": "execute_result"
    }
   ],
   "source": [
    "#item  - > .item() extracts the lone value from a tensor that's been carefully crafted to contain just one element.  **work with only one element** \n",
    "scaler.item()\n"
   ]
  },
  {
   "cell_type": "code",
   "execution_count": 4,
   "metadata": {},
   "outputs": [
    {
     "data": {
      "text/plain": [
       "tensor([2, 3, 4, 5, 6])"
      ]
     },
     "execution_count": 4,
     "metadata": {},
     "output_type": "execute_result"
    }
   ],
   "source": [
    "vector = torch.tensor([2,3,4,5,6])\n",
    "vector"
   ]
  },
  {
   "cell_type": "code",
   "execution_count": 5,
   "metadata": {},
   "outputs": [
    {
     "data": {
      "text/plain": [
       "list"
      ]
     },
     "execution_count": 5,
     "metadata": {},
     "output_type": "execute_result"
    }
   ],
   "source": [
    "#tolist()  -> coverts tensor to list\n",
    "v=vector.tolist()\n",
    "type(v)"
   ]
  },
  {
   "cell_type": "code",
   "execution_count": 6,
   "metadata": {},
   "outputs": [],
   "source": [
    "matrix = torch.tensor([[2,3],\n",
    "                       [4,5]])"
   ]
  },
  {
   "cell_type": "code",
   "execution_count": 7,
   "metadata": {},
   "outputs": [
    {
     "name": "stdout",
     "output_type": "stream",
     "text": [
      "2\n"
     ]
    },
    {
     "data": {
      "text/plain": [
       "torch.Size([2, 2])"
      ]
     },
     "execution_count": 7,
     "metadata": {},
     "output_type": "execute_result"
    }
   ],
   "source": [
    "print(matrix.ndim)\n",
    "matrix.size() #shape()\n"
   ]
  },
  {
   "cell_type": "code",
   "execution_count": 8,
   "metadata": {},
   "outputs": [],
   "source": [
    "tensor = torch.tensor([[[2,3],\n",
    "                       [4,5]]])"
   ]
  },
  {
   "cell_type": "code",
   "execution_count": 9,
   "metadata": {},
   "outputs": [
    {
     "name": "stdout",
     "output_type": "stream",
     "text": [
      "3\n"
     ]
    },
    {
     "data": {
      "text/plain": [
       "torch.Size([1, 2, 2])"
      ]
     },
     "execution_count": 9,
     "metadata": {},
     "output_type": "execute_result"
    }
   ],
   "source": [
    "print(tensor.ndim)\n",
    "tensor.size() #shape()"
   ]
  },
  {
   "cell_type": "markdown",
   "metadata": {},
   "source": [
    "### Random tensors"
   ]
  },
  {
   "cell_type": "code",
   "execution_count": 10,
   "metadata": {},
   "outputs": [
    {
     "data": {
      "text/plain": [
       "tensor([[0.5238, 0.7830, 0.2393, 0.9123],\n",
       "        [0.4731, 0.0652, 0.8316, 0.2804],\n",
       "        [0.5082, 0.1267, 0.3241, 0.3135]])"
      ]
     },
     "execution_count": 10,
     "metadata": {},
     "output_type": "execute_result"
    }
   ],
   "source": [
    "random_tensor  = torch.rand(3,4)\n",
    "random_tensor"
   ]
  },
  {
   "cell_type": "code",
   "execution_count": 11,
   "metadata": {},
   "outputs": [
    {
     "data": {
      "text/plain": [
       "tensor([[[0.2456, 0.8886, 0.6514],\n",
       "         [0.0866, 0.0934, 0.0594],\n",
       "         [0.0945, 0.4121, 0.2575]],\n",
       "\n",
       "        [[0.0424, 0.5666, 0.1466],\n",
       "         [0.8939, 0.0759, 0.5763],\n",
       "         [0.9066, 0.3876, 0.9839]]])"
      ]
     },
     "execution_count": 11,
     "metadata": {},
     "output_type": "execute_result"
    }
   ],
   "source": [
    "random_tensor1  = torch.rand(2,3,3)\n",
    "random_tensor1"
   ]
  },
  {
   "cell_type": "markdown",
   "metadata": {},
   "source": [
    "### Zeros and Ones"
   ]
  },
  {
   "cell_type": "code",
   "execution_count": 12,
   "metadata": {},
   "outputs": [
    {
     "data": {
      "text/plain": [
       "tensor([[0., 0., 0.],\n",
       "        [0., 0., 0.],\n",
       "        [0., 0., 0.]])"
      ]
     },
     "execution_count": 12,
     "metadata": {},
     "output_type": "execute_result"
    }
   ],
   "source": [
    "zero_tensor = torch.zeros(size=(3, 3))\n",
    "zero_tensor"
   ]
  },
  {
   "cell_type": "code",
   "execution_count": 13,
   "metadata": {},
   "outputs": [
    {
     "data": {
      "text/plain": [
       "tensor([[1., 1., 1.],\n",
       "        [1., 1., 1.],\n",
       "        [1., 1., 1.]], dtype=torch.float16)"
      ]
     },
     "execution_count": 13,
     "metadata": {},
     "output_type": "execute_result"
    }
   ],
   "source": [
    "ones_tensor = torch.ones(size=(3, 3),dtype=torch.float16)\n",
    "ones_tensor"
   ]
  },
  {
   "cell_type": "markdown",
   "metadata": {},
   "source": [
    "### range / arange"
   ]
  },
  {
   "cell_type": "code",
   "execution_count": 14,
   "metadata": {},
   "outputs": [
    {
     "name": "stderr",
     "output_type": "stream",
     "text": [
      "C:\\Users\\ASUS\\AppData\\Local\\Temp\\ipykernel_12716\\3572756921.py:1: UserWarning: torch.range is deprecated and will be removed in a future release because its behavior is inconsistent with Python's range builtin. Instead, use torch.arange, which produces values in [start, end).\n",
      "  torch.range(2,4) #deprecate\n"
     ]
    },
    {
     "data": {
      "text/plain": [
       "tensor([2., 3., 4.])"
      ]
     },
     "execution_count": 14,
     "metadata": {},
     "output_type": "execute_result"
    }
   ],
   "source": [
    "torch.range(2,4) #deprecate"
   ]
  },
  {
   "cell_type": "code",
   "execution_count": 15,
   "metadata": {},
   "outputs": [
    {
     "data": {
      "text/plain": [
       "tensor([2, 3, 4, 5])"
      ]
     },
     "execution_count": 15,
     "metadata": {},
     "output_type": "execute_result"
    }
   ],
   "source": [
    "torch.arange(2,6)"
   ]
  },
  {
   "cell_type": "code",
   "execution_count": 16,
   "metadata": {},
   "outputs": [
    {
     "data": {
      "text/plain": [
       "tensor([ 2,  5,  8, 11, 14, 17, 20, 23, 26, 29, 32, 35, 38, 41, 44, 47, 50, 53,\n",
       "        56, 59])"
      ]
     },
     "execution_count": 16,
     "metadata": {},
     "output_type": "execute_result"
    }
   ],
   "source": [
    "torch.arange(start=2 ,end=60, step=3)"
   ]
  },
  {
   "cell_type": "markdown",
   "metadata": {},
   "source": [
    "### tensor like"
   ]
  },
  {
   "cell_type": "code",
   "execution_count": 17,
   "metadata": {},
   "outputs": [
    {
     "name": "stdout",
     "output_type": "stream",
     "text": [
      "tensor([[6., 6., 6., 6.],\n",
      "        [6., 6., 6., 6.],\n",
      "        [6., 6., 6., 6.]])\n",
      "tensor([[0.0386, 0.9526, 0.6290, 0.3094],\n",
      "        [0.8372, 0.2434, 0.8681, 0.2025],\n",
      "        [0.9679, 0.4669, 0.1773, 0.3758]])\n",
      "tensor([[1., 1., 1., 1.],\n",
      "        [1., 1., 1., 1.],\n",
      "        [1., 1., 1., 1.]])\n",
      "tensor([[0., 0., 0., 0.],\n",
      "        [0., 0., 0., 0.],\n",
      "        [0., 0., 0., 0.]])\n",
      "tensor([[0., 0., 0., 0.],\n",
      "        [0., 0., 0., 0.],\n",
      "        [0., 0., 0., 0.]])\n",
      "tensor([[ 1.4597,  1.5285,  1.4092, -0.5315],\n",
      "        [ 1.1792, -1.6145,  0.5408, -1.1141],\n",
      "        [-0.8113, -1.0798,  1.5655, -0.5306]])\n"
     ]
    }
   ],
   "source": [
    "print(torch.full_like(input = random_tensor , fill_value=6))\n",
    "print(torch.rand_like(input = random_tensor))\n",
    "print(torch.ones_like(input = random_tensor))\n",
    "print(torch.zeros_like(input = random_tensor))\n",
    "print(torch.empty_like(input = random_tensor))\n",
    "print(torch.randn_like(input = random_tensor))\n",
    "\n",
    "\n"
   ]
  },
  {
   "cell_type": "markdown",
   "metadata": {},
   "source": [
    "### tensor dtypes"
   ]
  },
  {
   "cell_type": "code",
   "execution_count": 18,
   "metadata": {},
   "outputs": [
    {
     "name": "stdout",
     "output_type": "stream",
     "text": [
      "torch.float32\n",
      "torch.int64\n"
     ]
    }
   ],
   "source": [
    "# default - > float32 for float & int64 for int\n",
    "\n",
    "float_32 = torch.tensor([3.,4.,6.0])\n",
    "int_64 = torch.tensor([3,4,6])\n",
    "print(float_32.dtype)\n",
    "print(int_64.dtype)\n"
   ]
  },
  {
   "cell_type": "code",
   "execution_count": 19,
   "metadata": {},
   "outputs": [
    {
     "name": "stdout",
     "output_type": "stream",
     "text": [
      "torch.float16\n",
      "torch.float32\n",
      "torch.float64\n"
     ]
    }
   ],
   "source": [
    "float_16 = torch.tensor([3.,4.,6.0],\n",
    "                        dtype=torch.float16,\n",
    "                        device=torch.device('cpu'))\n",
    "float_32 = torch.tensor([3.,4.,6.0],\n",
    "                        dtype=torch.float32)\n",
    "float_64 = torch.tensor([3.,4.,6.0],\n",
    "                        dtype=torch.float64)\n",
    "\n",
    "print(float_16.dtype)\n",
    "print(float_32.dtype)\n",
    "print(float_64.dtype)"
   ]
  },
  {
   "cell_type": "code",
   "execution_count": 20,
   "metadata": {},
   "outputs": [
    {
     "data": {
      "text/plain": [
       "torch.float16"
      ]
     },
     "execution_count": 20,
     "metadata": {},
     "output_type": "execute_result"
    }
   ],
   "source": [
    "float_16_converted = float_64.type(torch.float16)\n",
    "float_16_converted.dtype"
   ]
  },
  {
   "cell_type": "markdown",
   "metadata": {},
   "source": [
    "### tensor manipulation"
   ]
  },
  {
   "cell_type": "code",
   "execution_count": 21,
   "metadata": {},
   "outputs": [
    {
     "name": "stdout",
     "output_type": "stream",
     "text": [
      "tensor([[1.5238, 1.7830, 1.2393, 1.9123],\n",
      "        [1.4731, 1.0652, 1.8316, 1.2804],\n",
      "        [1.5082, 1.1267, 1.3241, 1.3135]])\n",
      "tensor([[-0.4762, -0.2170, -0.7607, -0.0877],\n",
      "        [-0.5269, -0.9348, -0.1684, -0.7196],\n",
      "        [-0.4918, -0.8733, -0.6759, -0.6865]])\n",
      "tensor([[0.5238, 0.7830, 0.2393, 0.9123],\n",
      "        [0.4731, 0.0652, 0.8316, 0.2804],\n",
      "        [0.5082, 0.1267, 0.3241, 0.3135]])\n",
      "tensor([[0.5238, 0.7830, 0.2393, 0.9123],\n",
      "        [0.4731, 0.0652, 0.8316, 0.2804],\n",
      "        [0.5082, 0.1267, 0.3241, 0.3135]])\n"
     ]
    }
   ],
   "source": [
    "# addition\n",
    "\n",
    "print(torch.add(random_tensor,1))  # or print(random_tensor + 1)\n",
    "\n",
    "#subtraction \n",
    "\n",
    "print(torch.sub(random_tensor,1))  # or print(random_tensor - 1)\n",
    "\n",
    "# division\n",
    "\n",
    "print(torch.div(random_tensor,1))  # or print(random_tensor / 1)\n",
    "\n",
    "# scalar multiplication / element wise multiplication\n",
    "\n",
    "print(torch.mul(random_tensor,1))  # or print(random_tensor * 1)\n",
    "\n",
    "\n"
   ]
  },
  {
   "cell_type": "code",
   "execution_count": 22,
   "metadata": {},
   "outputs": [
    {
     "name": "stdout",
     "output_type": "stream",
     "text": [
      "tensor([[0.2744, 0.6131, 0.0573, 0.8323],\n",
      "        [0.2238, 0.0042, 0.6916, 0.0786],\n",
      "        [0.2583, 0.0161, 0.1050, 0.0983]])\n",
      "tensor([[1.7770, 0.7537, 0.7290],\n",
      "        [0.7537, 0.9984, 0.6061],\n",
      "        [0.7290, 0.6061, 0.4777]])\n"
     ]
    }
   ],
   "source": [
    "# matrix multiplcation \n",
    "   # -> element wise multiplication\n",
    "   # -> dotproduct\n",
    "   \n",
    "# -> element wise multiplication\n",
    "\n",
    "print(torch.mul(random_tensor,random_tensor))  #print(random_tensor * random_tensor)\n",
    "\n",
    "\n",
    "#  ->dot product\n",
    "\n",
    "rand_tensor = random_tensor.T                   #3x4  4x3\n",
    "print(torch.matmul(random_tensor,rand_tensor))  #or torch.mm()\n",
    "\n",
    "\n"
   ]
  },
  {
   "cell_type": "code",
   "execution_count": 23,
   "metadata": {},
   "outputs": [
    {
     "data": {
      "text/plain": [
       "tensor([[0.5238, 0.4731, 0.5082],\n",
       "        [0.7830, 0.0652, 0.1267],\n",
       "        [0.2393, 0.8316, 0.3241],\n",
       "        [0.9123, 0.2804, 0.3135]])"
      ]
     },
     "execution_count": 23,
     "metadata": {},
     "output_type": "execute_result"
    }
   ],
   "source": [
    "rand_tensor"
   ]
  },
  {
   "cell_type": "code",
   "execution_count": 24,
   "metadata": {},
   "outputs": [
    {
     "data": {
      "text/plain": [
       "tensor([[0.5238, 0.4731, 0.5082, 0.7830],\n",
       "        [0.0652, 0.1267, 0.2393, 0.8316],\n",
       "        [0.3241, 0.9123, 0.2804, 0.3135]])"
      ]
     },
     "execution_count": 24,
     "metadata": {},
     "output_type": "execute_result"
    }
   ],
   "source": [
    "rand_tensor.reshape(3,4)"
   ]
  },
  {
   "cell_type": "markdown",
   "metadata": {},
   "source": [
    "#### tensor aggregation"
   ]
  },
  {
   "cell_type": "code",
   "execution_count": 25,
   "metadata": {},
   "outputs": [
    {
     "data": {
      "text/plain": [
       "tensor([0, 1, 2, 3, 4, 5, 6, 7, 8, 9])"
      ]
     },
     "execution_count": 25,
     "metadata": {},
     "output_type": "execute_result"
    }
   ],
   "source": [
    "x = torch.arange(0,10)\n",
    "x"
   ]
  },
  {
   "cell_type": "code",
   "execution_count": 26,
   "metadata": {},
   "outputs": [
    {
     "name": "stdout",
     "output_type": "stream",
     "text": [
      "tensor(9)\n",
      "tensor(0)\n"
     ]
    }
   ],
   "source": [
    "print(torch.max(x))\n",
    "print(torch.min(x))"
   ]
  },
  {
   "cell_type": "code",
   "execution_count": 27,
   "metadata": {},
   "outputs": [
    {
     "data": {
      "text/plain": [
       "tensor(4.5000, dtype=torch.float64)"
      ]
     },
     "execution_count": 27,
     "metadata": {},
     "output_type": "execute_result"
    }
   ],
   "source": [
    "#torch.mean(x.type(torch.int32)) -> ERROR\n",
    "\n",
    "# torch.mean() work with only float datatype\n",
    "\n",
    "torch.mean(x.type(torch.float64))"
   ]
  },
  {
   "cell_type": "code",
   "execution_count": 28,
   "metadata": {},
   "outputs": [
    {
     "data": {
      "text/plain": [
       "tensor(45)"
      ]
     },
     "execution_count": 28,
     "metadata": {},
     "output_type": "execute_result"
    }
   ],
   "source": [
    "torch.sum(x)"
   ]
  },
  {
   "cell_type": "markdown",
   "metadata": {},
   "source": [
    "#### position of min, max   ==> argmin ,agrmax"
   ]
  },
  {
   "cell_type": "code",
   "execution_count": 29,
   "metadata": {},
   "outputs": [
    {
     "name": "stdout",
     "output_type": "stream",
     "text": [
      "tensor(0)\n",
      "tensor(9)\n",
      "tensor([0, 1, 2, 3, 4, 5, 6, 7, 8, 9])\n",
      "tensor([[1],\n",
      "        [2],\n",
      "        [3],\n",
      "        [4],\n",
      "        [5],\n",
      "        [6],\n",
      "        [7],\n",
      "        [8],\n",
      "        [9]])\n"
     ]
    }
   ],
   "source": [
    "# return index\n",
    "\n",
    "print(torch.argmin(x))\n",
    "print(torch.argmax(x))\n",
    "print(torch.argsort(x))\n",
    "print(torch.argwhere(x))"
   ]
  },
  {
   "cell_type": "markdown",
   "metadata": {},
   "source": [
    "#### reshaping , stacking , squeezing , unsqueezing , tensors "
   ]
  },
  {
   "cell_type": "code",
   "execution_count": 30,
   "metadata": {},
   "outputs": [
    {
     "name": "stdout",
     "output_type": "stream",
     "text": [
      "Reshaped Tensor:\n",
      " tensor([[0.5238, 0.7830, 0.2393, 0.9123, 0.4731, 0.0652],\n",
      "        [0.8316, 0.2804, 0.5082, 0.1267, 0.3241, 0.3135]])\n",
      "Reshaped Tensor:\n",
      " tensor([[0.5238, 0.7830],\n",
      "        [0.2393, 0.9123],\n",
      "        [0.4731, 0.0652],\n",
      "        [0.8316, 0.2804],\n",
      "        [0.5082, 0.1267],\n",
      "        [0.3241, 0.3135]])\n",
      "Stacked Tensor:\n",
      " tensor([[[0.5238, 0.7830, 0.2393, 0.9123],\n",
      "         [0.4731, 0.0652, 0.8316, 0.2804],\n",
      "         [0.5082, 0.1267, 0.3241, 0.3135]],\n",
      "\n",
      "        [[0.5238, 0.7830, 0.2393, 0.9123],\n",
      "         [0.4731, 0.0652, 0.8316, 0.2804],\n",
      "         [0.5082, 0.1267, 0.3241, 0.3135]]])\n",
      "horizatally stacked Tensor:\n",
      " tensor([[0.5238, 0.7830, 0.2393, 0.9123, 0.5238, 0.7830, 0.2393, 0.9123],\n",
      "        [0.4731, 0.0652, 0.8316, 0.2804, 0.4731, 0.0652, 0.8316, 0.2804],\n",
      "        [0.5082, 0.1267, 0.3241, 0.3135, 0.5082, 0.1267, 0.3241, 0.3135]])\n",
      "vertically stacked Tensor:\n",
      " tensor([[0.5238, 0.7830, 0.2393, 0.9123],\n",
      "        [0.4731, 0.0652, 0.8316, 0.2804],\n",
      "        [0.5082, 0.1267, 0.3241, 0.3135],\n",
      "        [0.5238, 0.7830, 0.2393, 0.9123],\n",
      "        [0.4731, 0.0652, 0.8316, 0.2804],\n",
      "        [0.5082, 0.1267, 0.3241, 0.3135]])\n",
      "Squeezed Tensor:\n",
      " tensor([[2, 3],\n",
      "        [4, 5]])\n",
      "Unsqueezed Tensor:\n",
      " tensor([[[[2, 3],\n",
      "          [4, 5]]]])\n"
     ]
    }
   ],
   "source": [
    "# Reshaping  or View\n",
    "reshaped_tensor = random_tensor.reshape(2, 6)  \n",
    "print(\"Reshaped Tensor:\\n\", reshaped_tensor)\n",
    "\n",
    "\n",
    "#view\n",
    "reshaped_tensor = random_tensor.view(6, 2)  \n",
    "print(\"Reshaped Tensor:\\n\", reshaped_tensor)\n",
    "\n",
    "# Stacking\n",
    "stacked_tensor = torch.stack([random_tensor, random_tensor], dim=0)\n",
    "print(\"Stacked Tensor:\\n\", stacked_tensor)\n",
    "\n",
    "# hstack\n",
    "\n",
    "stacked_tensor = torch.hstack([random_tensor, random_tensor])\n",
    "print(\"horizatally stacked Tensor:\\n\", stacked_tensor)\n",
    "\n",
    "#vsatck\n",
    "\n",
    "stacked_tensor = torch.vstack([random_tensor, random_tensor])\n",
    "print(\"vertically stacked Tensor:\\n\", stacked_tensor)\n",
    "\n",
    "# Squeezing\n",
    "squeezed_tensor = tensor.squeeze()\n",
    "print(\"Squeezed Tensor:\\n\", squeezed_tensor)\n",
    "\n",
    "# Unsqueezing\n",
    "unsqueezed_tensor = tensor.unsqueeze(0)    #-> dimentions value\n",
    "print(\"Unsqueezed Tensor:\\n\", unsqueezed_tensor)"
   ]
  },
  {
   "cell_type": "code",
   "execution_count": 31,
   "metadata": {},
   "outputs": [
    {
     "name": "stdout",
     "output_type": "stream",
     "text": [
      "torch.Size([255, 255, 3])\n",
      "torch.Size([3, 255, 255])\n"
     ]
    }
   ],
   "source": [
    "# torch.permute  -> rearranges the dimentions\n",
    "\n",
    "x = torch.rand(size=(255,255,3))\n",
    "print(x.shape)\n",
    "x_permute = torch.permute(x,(2,1,0))\n",
    "print(x_permute.shape)"
   ]
  },
  {
   "cell_type": "code",
   "execution_count": 32,
   "metadata": {},
   "outputs": [
    {
     "data": {
      "text/plain": [
       "tensor([[[0.8881, 0.3275, 0.0309],\n",
       "         [0.8575, 0.9414, 0.3046],\n",
       "         [0.2420, 0.8888, 0.5031],\n",
       "         ...,\n",
       "         [0.6924, 0.5509, 0.0486],\n",
       "         [0.6934, 0.6818, 0.0792],\n",
       "         [0.8069, 0.2557, 0.7185]],\n",
       "\n",
       "        [[0.5213, 0.7327, 0.8036],\n",
       "         [0.0156, 0.0901, 0.6348],\n",
       "         [0.6727, 0.7364, 0.9314],\n",
       "         ...,\n",
       "         [0.0053, 0.4183, 0.6608],\n",
       "         [0.4508, 0.9788, 0.3893],\n",
       "         [0.0886, 0.7938, 0.1247]],\n",
       "\n",
       "        [[0.2100, 0.8965, 0.0126],\n",
       "         [0.3618, 0.7577, 0.9236],\n",
       "         [0.2550, 0.9728, 0.0634],\n",
       "         ...,\n",
       "         [0.5554, 0.7837, 0.9660],\n",
       "         [0.7131, 0.7051, 0.3546],\n",
       "         [0.6868, 0.1219, 0.0959]],\n",
       "\n",
       "        ...,\n",
       "\n",
       "        [[0.0684, 0.6627, 0.0125],\n",
       "         [0.8071, 0.8139, 0.5667],\n",
       "         [0.9781, 0.8356, 0.5183],\n",
       "         ...,\n",
       "         [0.6716, 0.0497, 0.8707],\n",
       "         [0.6374, 0.9216, 0.4492],\n",
       "         [0.1015, 0.7556, 0.3058]],\n",
       "\n",
       "        [[0.8685, 0.5102, 0.0331],\n",
       "         [0.4859, 0.1243, 0.4471],\n",
       "         [0.9422, 0.8123, 0.4631],\n",
       "         ...,\n",
       "         [0.0612, 0.6983, 0.1071],\n",
       "         [0.5618, 0.4875, 0.6233],\n",
       "         [0.6141, 0.3408, 0.6405]],\n",
       "\n",
       "        [[0.6693, 0.7241, 0.7180],\n",
       "         [0.8651, 0.8887, 0.0111],\n",
       "         [0.5086, 0.1524, 0.0436],\n",
       "         ...,\n",
       "         [0.7814, 0.7153, 0.3797],\n",
       "         [0.9454, 0.7094, 0.1704],\n",
       "         [0.1649, 0.7846, 0.7461]]])"
      ]
     },
     "execution_count": 32,
     "metadata": {},
     "output_type": "execute_result"
    }
   ],
   "source": [
    "x"
   ]
  },
  {
   "cell_type": "code",
   "execution_count": 33,
   "metadata": {},
   "outputs": [
    {
     "data": {
      "text/plain": [
       "tensor([[[0.8881, 0.5213, 0.2100,  ..., 0.0684, 0.8685, 0.6693],\n",
       "         [0.8575, 0.0156, 0.3618,  ..., 0.8071, 0.4859, 0.8651],\n",
       "         [0.2420, 0.6727, 0.2550,  ..., 0.9781, 0.9422, 0.5086],\n",
       "         ...,\n",
       "         [0.6924, 0.0053, 0.5554,  ..., 0.6716, 0.0612, 0.7814],\n",
       "         [0.6934, 0.4508, 0.7131,  ..., 0.6374, 0.5618, 0.9454],\n",
       "         [0.8069, 0.0886, 0.6868,  ..., 0.1015, 0.6141, 0.1649]],\n",
       "\n",
       "        [[0.3275, 0.7327, 0.8965,  ..., 0.6627, 0.5102, 0.7241],\n",
       "         [0.9414, 0.0901, 0.7577,  ..., 0.8139, 0.1243, 0.8887],\n",
       "         [0.8888, 0.7364, 0.9728,  ..., 0.8356, 0.8123, 0.1524],\n",
       "         ...,\n",
       "         [0.5509, 0.4183, 0.7837,  ..., 0.0497, 0.6983, 0.7153],\n",
       "         [0.6818, 0.9788, 0.7051,  ..., 0.9216, 0.4875, 0.7094],\n",
       "         [0.2557, 0.7938, 0.1219,  ..., 0.7556, 0.3408, 0.7846]],\n",
       "\n",
       "        [[0.0309, 0.8036, 0.0126,  ..., 0.0125, 0.0331, 0.7180],\n",
       "         [0.3046, 0.6348, 0.9236,  ..., 0.5667, 0.4471, 0.0111],\n",
       "         [0.5031, 0.9314, 0.0634,  ..., 0.5183, 0.4631, 0.0436],\n",
       "         ...,\n",
       "         [0.0486, 0.6608, 0.9660,  ..., 0.8707, 0.1071, 0.3797],\n",
       "         [0.0792, 0.3893, 0.3546,  ..., 0.4492, 0.6233, 0.1704],\n",
       "         [0.7185, 0.1247, 0.0959,  ..., 0.3058, 0.6405, 0.7461]]])"
      ]
     },
     "execution_count": 33,
     "metadata": {},
     "output_type": "execute_result"
    }
   ],
   "source": [
    "x_permute"
   ]
  },
  {
   "cell_type": "markdown",
   "metadata": {},
   "source": [
    "### indexing"
   ]
  },
  {
   "cell_type": "code",
   "execution_count": 34,
   "metadata": {},
   "outputs": [
    {
     "data": {
      "text/plain": [
       "tensor([[[1, 2, 3],\n",
       "         [4, 5, 6],\n",
       "         [7, 8, 9]]])"
      ]
     },
     "execution_count": 34,
     "metadata": {},
     "output_type": "execute_result"
    }
   ],
   "source": [
    "x = torch.arange(1,10).reshape(1,3,3)\n",
    "x"
   ]
  },
  {
   "cell_type": "code",
   "execution_count": 35,
   "metadata": {},
   "outputs": [
    {
     "name": "stdout",
     "output_type": "stream",
     "text": [
      "tensor([[[1, 2, 3],\n",
      "         [4, 5, 6],\n",
      "         [7, 8, 9]]])\n",
      "tensor([[1, 2, 3],\n",
      "        [4, 5, 6],\n",
      "        [7, 8, 9]])\n",
      "tensor([1, 2, 3])\n",
      "tensor(1)\n"
     ]
    },
    {
     "data": {
      "text/plain": [
       "(None, None, None, None)"
      ]
     },
     "execution_count": 35,
     "metadata": {},
     "output_type": "execute_result"
    }
   ],
   "source": [
    "print(x),print(x[0]),print(x[0][0]),print(x[0][0][0])"
   ]
  },
  {
   "cell_type": "code",
   "execution_count": 36,
   "metadata": {},
   "outputs": [
    {
     "name": "stdout",
     "output_type": "stream",
     "text": [
      "tensor([[[1, 2, 3],\n",
      "         [4, 5, 6],\n",
      "         [7, 8, 9]]])\n",
      "tensor([[1, 2, 3],\n",
      "        [4, 5, 6],\n",
      "        [7, 8, 9]])\n",
      "tensor([[7, 8, 9]])\n",
      "tensor([[3, 6, 9]])\n",
      "tensor([[[1, 2, 3],\n",
      "         [4, 5, 6],\n",
      "         [7, 8, 9]]])\n",
      "tensor([[1, 2, 3],\n",
      "        [4, 5, 6],\n",
      "        [7, 8, 9]])\n"
     ]
    },
    {
     "data": {
      "text/plain": [
       "(None, None, None, None, None, None)"
      ]
     },
     "execution_count": 36,
     "metadata": {},
     "output_type": "execute_result"
    }
   ],
   "source": [
    "print(x[:, : ,:]) , print(x[0,:,:]),print(x[:,2 ,:]),print(x[:, : ,2]),print(x[: ,:]),print(x[0,:])"
   ]
  },
  {
   "cell_type": "markdown",
   "metadata": {},
   "source": [
    "## PyTorch Tensors & Numpy"
   ]
  },
  {
   "cell_type": "code",
   "execution_count": 37,
   "metadata": {},
   "outputs": [],
   "source": [
    "import numpy as np"
   ]
  },
  {
   "cell_type": "code",
   "execution_count": 38,
   "metadata": {},
   "outputs": [
    {
     "name": "stdout",
     "output_type": "stream",
     "text": [
      "<class 'numpy.ndarray'>\n",
      "<class 'torch.Tensor'>\n"
     ]
    }
   ],
   "source": [
    "np_array = np.arange(1,9)\n",
    "torch_tensor = torch.arange(1,9)\n",
    "print(type(np_array))\n",
    "print(type(torch_tensor))"
   ]
  },
  {
   "cell_type": "code",
   "execution_count": 39,
   "metadata": {},
   "outputs": [
    {
     "name": "stdout",
     "output_type": "stream",
     "text": [
      "tensor([1, 2, 3, 4, 5, 6, 7, 8], dtype=torch.int32)\n",
      "<class 'torch.Tensor'>\n",
      "[1 2 3 4 5 6 7 8]\n",
      "<class 'numpy.ndarray'>\n"
     ]
    },
    {
     "data": {
      "text/plain": [
       "(None, None)"
      ]
     },
     "execution_count": 39,
     "metadata": {},
     "output_type": "execute_result"
    }
   ],
   "source": [
    "numpy_to_torch = torch.from_numpy(np_array)\n",
    "print(numpy_to_torch),print(type(numpy_to_torch))\n",
    "torch_to_numpy = torch_tensor.numpy()\n",
    "print(torch_to_numpy),print(type(torch_to_numpy))"
   ]
  },
  {
   "cell_type": "code",
   "execution_count": 40,
   "metadata": {},
   "outputs": [
    {
     "name": "stdout",
     "output_type": "stream",
     "text": [
      "tensor([[0.8823, 0.9150, 0.3829, 0.9593],\n",
      "        [0.3904, 0.6009, 0.2566, 0.7936],\n",
      "        [0.9408, 0.1332, 0.9346, 0.5936]])\n",
      "tensor([[0.8823, 0.9150, 0.3829, 0.9593],\n",
      "        [0.3904, 0.6009, 0.2566, 0.7936],\n",
      "        [0.9408, 0.1332, 0.9346, 0.5936]])\n"
     ]
    }
   ],
   "source": [
    "import torch\n",
    "\n",
    "# Set random seed for reproducibility\n",
    "torch.manual_seed(42)\n",
    "A = torch.rand(size=(3,4))\n",
    "print(A)\n",
    "\n",
    "torch.manual_seed(42)\n",
    "B = torch.rand(size=(3,4))\n",
    "print(B)\n"
   ]
  },
  {
   "cell_type": "markdown",
   "metadata": {},
   "source": [
    "### GPU"
   ]
  },
  {
   "cell_type": "code",
   "execution_count": 44,
   "metadata": {},
   "outputs": [
    {
     "data": {
      "text/plain": [
       "False"
      ]
     },
     "execution_count": 44,
     "metadata": {},
     "output_type": "execute_result"
    }
   ],
   "source": [
    "torch.cuda.is_available()"
   ]
  },
  {
   "cell_type": "markdown",
   "metadata": {},
   "source": [
    "device agnostic code"
   ]
  },
  {
   "cell_type": "code",
   "execution_count": 49,
   "metadata": {},
   "outputs": [
    {
     "data": {
      "text/plain": [
       "'cpu'"
      ]
     },
     "execution_count": 49,
     "metadata": {},
     "output_type": "execute_result"
    }
   ],
   "source": [
    "device = \"cuda\" if torch.cuda.is_available() else \"cpu\"\n",
    "device"
   ]
  },
  {
   "cell_type": "code",
   "execution_count": 53,
   "metadata": {},
   "outputs": [
    {
     "data": {
      "text/plain": [
       "device(type='cpu')"
      ]
     },
     "execution_count": 53,
     "metadata": {},
     "output_type": "execute_result"
    }
   ],
   "source": [
    "x = torch.arange(1,9)\n",
    "x.device"
   ]
  },
  {
   "cell_type": "code",
   "execution_count": 57,
   "metadata": {},
   "outputs": [
    {
     "data": {
      "text/plain": [
       "tensor([1, 2, 3, 4, 5, 6, 7, 8])"
      ]
     },
     "execution_count": 57,
     "metadata": {},
     "output_type": "execute_result"
    }
   ],
   "source": [
    "x.to(device=device)\n"
   ]
  },
  {
   "cell_type": "code",
   "execution_count": 58,
   "metadata": {},
   "outputs": [],
   "source": [
    "# numpy dont work on GPUs\n",
    "# if tensor on GPU cant transform it into Numpy"
   ]
  },
  {
   "cell_type": "code",
   "execution_count": 61,
   "metadata": {},
   "outputs": [
    {
     "data": {
      "text/plain": [
       "array([1, 2, 3, 4, 5, 6, 7, 8], dtype=int64)"
      ]
     },
     "execution_count": 61,
     "metadata": {},
     "output_type": "execute_result"
    }
   ],
   "source": [
    "tensor_on_cpu = x.cpu().numpy()\n",
    "tensor_on_cpu"
   ]
  },
  {
   "cell_type": "code",
   "execution_count": null,
   "metadata": {},
   "outputs": [],
   "source": []
  }
 ],
 "metadata": {
  "kernelspec": {
   "display_name": "Python 3",
   "language": "python",
   "name": "python3"
  },
  "language_info": {
   "codemirror_mode": {
    "name": "ipython",
    "version": 3
   },
   "file_extension": ".py",
   "mimetype": "text/x-python",
   "name": "python",
   "nbconvert_exporter": "python",
   "pygments_lexer": "ipython3",
   "version": "3.12.6"
  }
 },
 "nbformat": 4,
 "nbformat_minor": 2
}
